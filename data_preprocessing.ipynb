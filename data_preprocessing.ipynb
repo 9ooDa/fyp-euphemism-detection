{
 "cells": [
  {
   "cell_type": "code",
   "execution_count": 11,
   "metadata": {},
   "outputs": [],
   "source": [
    "import re\n",
    "import csv"
   ]
  },
  {
   "cell_type": "code",
   "execution_count": 12,
   "metadata": {},
   "outputs": [],
   "source": [
    "def preprocess_pattern(corpus):\n",
    "    corpus = re.sub(r\"^(DarkNetMarkets)\", \"\", corpus)\n",
    "    corpus = re.sub(r\"^(\\[deleted\\]|\\[removed\\])\", \"\", corpus)\n",
    "    # corpus = re.sub(r\"\\w?(http|https)?:[\\s]?\\/(\\/*)[\\s]?((\\s)?\\w(\\s)?)*\", \"\", corpus)\n",
    "    corpus = re.sub(r\"http\\S+\", \"\", corpus) # remove url\n",
    "    corpus = re.sub(r\"(\\s*)?\\S*(BEGIN PGP SIGNATURE)\\S*(\\s*)?(\\S*:)?(\\s\\S*)*(END PGP SIGNATURE-----)\", \"\", corpus) # remove pgp signature\n",
    "    corpus = re.sub(r\"(\\s*)?\\S*(BEGIN PGP PUBLIC KEY BLOCK)\\S*(\\s*)?(\\S*:)?(\\s\\S*)*(END PGP PUBLIC KEY BLOCK-----)\", \"\", corpus) # remove pgp public key block\n",
    "    corpus = re.sub(r\"\\S*@\\S*\\s?\", \"\", corpus) # remove email address\n",
    "    \n",
    "    corpus = re.sub(r\"[^a-zA-Z0-9()#@$.,!?\\'\\`\\|]\", \" \", corpus)\n",
    "\n",
    "    if re.search(r\"\\d+[.]\\d+[a-z]?\", corpus):\n",
    "        corpus = re.sub(r\"[.]\", \"\", corpus)\n",
    "    elif re.search(r\"\\D+(?=[.])(\\D+)?\", corpus):\n",
    "        corpus = re.sub(r\"[.]\", \"\\\\n\", corpus)\n",
    "\n",
    "    if re.search(r\"\\d+[$]\", corpus):\n",
    "        corpus = re.sub(r\"[$]\", \" dollar\", corpus)\n",
    "    elif re.search(r\"[$]\\d+\", corpus):\n",
    "        corpus = re.sub(r\"[$]\", \"dollar \", corpus)\n",
    "    \n",
    "    corpus = re.sub(r\"[$]\", \"\", corpus)\n",
    "    corpus = re.sub(r\"\\'s\", \"s\", corpus)\n",
    "    corpus = re.sub(r\"\\'ve\", \"ve\", corpus)\n",
    "    corpus = re.sub(r\"n\\'t\", \"nt\", corpus)\n",
    "    corpus = re.sub(r\"\\'re\", \"re\", corpus)\n",
    "    corpus = re.sub(r\"\\'d\", \"d\", corpus)\n",
    "    corpus = re.sub(r\"\\'ll\", \"ll\", corpus)\n",
    "    corpus = re.sub(r\"\\'\", \"\", corpus)\n",
    "    corpus = re.sub(r\"\\`\", \"\", corpus)\n",
    "    corpus = re.sub(r\"\\(\", \"\", corpus)\n",
    "    corpus = re.sub(r\"\\)\", \"\", corpus)\n",
    "    corpus = re.sub(r\"\\!\", \"\", corpus)\n",
    "    corpus = re.sub(r\"\\?\", \"\", corpus)\n",
    "    corpus = re.sub(r\"\\,\", \"\", corpus)\n",
    "    corpus = re.sub(r\"\\|{1,}\", \"\", corpus)\n",
    "    \n",
    "    corpus = re.sub(r\" {2,}\", \" \", corpus)\n",
    "    \n",
    "    corpus = corpus.strip().lower()\n",
    "\n",
    "    return corpus"
   ]
  },
  {
   "cell_type": "code",
   "execution_count": 13,
   "metadata": {},
   "outputs": [],
   "source": [
    "with open ('data/reddit.csv') as raw:\n",
    "    d = csv.reader(raw, delimiter=\",\")\n",
    "    d_sample = [sample for sample in d]\n",
    "    # print(d_sample[80])\n",
    "\n",
    "    count = 0\n",
    "    original = []\n",
    "    mid = []\n",
    "    for ds in d_sample:\n",
    "        for d in ds: \n",
    "            if len(d) > 0:\n",
    "                try:\n",
    "                    original.append(d)\n",
    "                    after = preprocess_pattern(d)\n",
    "                    mid.append(str(after))\n",
    "                    count += 1\n",
    "                except IndexError as e:\n",
    "                    print(d)\n",
    "                    raise\n",
    "            else:\n",
    "                pass\n",
    "\n",
    "    d_s_token = []\n",
    "    for comment in mid:\n",
    "        content = comment.split('\\n')\n",
    "        for c in content:\n",
    "            if len(c) > 1:\n",
    "                d_s_token.append(c.strip())"
   ]
  },
  {
   "cell_type": "code",
   "execution_count": 14,
   "metadata": {},
   "outputs": [
    {
     "name": "stdout",
     "output_type": "stream",
     "text": [
      "count is : 3383274\n",
      "\n"
     ]
    }
   ],
   "source": [
    "print(f\"count is : {count}\\n\")\n",
    "\n",
    "f = open(\"data/output/processed_corpus.txt\", 'w')\n",
    "for i in range(3, len(d_s_token)):\n",
    "    # o = f\"original {i}: {original[i]}\\n\"\n",
    "    a = f\"{d_s_token[i]}\\n\"\n",
    "    # f.write(o)\n",
    "    f.write(a)"
   ]
  },
  {
   "cell_type": "code",
   "execution_count": null,
   "metadata": {},
   "outputs": [],
   "source": []
  }
 ],
 "metadata": {
  "kernelspec": {
   "display_name": "fyp-dev",
   "language": "python",
   "name": "python3"
  },
  "language_info": {
   "codemirror_mode": {
    "name": "ipython",
    "version": 3
   },
   "file_extension": ".py",
   "mimetype": "text/x-python",
   "name": "python",
   "nbconvert_exporter": "python",
   "pygments_lexer": "ipython3",
   "version": "3.7.9"
  },
  "orig_nbformat": 4,
  "vscode": {
   "interpreter": {
    "hash": "cf42840c5253c66635351366f71543fb19083080d676bbd340381a7827cbdf14"
   }
  }
 },
 "nbformat": 4,
 "nbformat_minor": 2
}
